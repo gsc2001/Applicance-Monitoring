{
 "cells": [
  {
   "cell_type": "code",
   "execution_count": 1,
   "metadata": {},
   "outputs": [],
   "source": [
    "import sys\n",
    "import numpy as np\n",
    "import pandas as pd\n",
    "import pickle\n",
    "import json"
   ]
  },
  {
   "cell_type": "code",
   "execution_count": 2,
   "metadata": {
    "scrolled": false
   },
   "outputs": [],
   "source": [
    "from sklearn.model_selection import train_test_split"
   ]
  },
  {
   "cell_type": "markdown",
   "metadata": {},
   "source": []
  },
  {
   "cell_type": "code",
   "execution_count": 3,
   "metadata": {},
   "outputs": [],
   "source": [
    "from sklearn.model_selection import train_test_split\n",
    "\n",
    "from sktime.classification.dictionary_based import IndividualBOSS, ContractableBOSS, BOSSEnsemble\n",
    "from sktime.classification.hybrid import HIVECOTEV1\n",
    "from sktime.classification.kernel_based import ROCKETClassifier\n",
    "from sktime.classification.shapelet_based import ShapeletTransformClassifier\n",
    "from sktime.contrib.vector_classifiers._rotation_forest import RotationForest\n",
    "from sktime.classification.interval_based import RandomIntervalSpectralForest, TimeSeriesForestClassifier\n",
    "from sktime.classification.distance_based import KNeighborsTimeSeriesClassifier"
   ]
  },
  {
   "cell_type": "code",
   "execution_count": 4,
   "metadata": {},
   "outputs": [],
   "source": [
    "json_data = []\n",
    "SERIES_LEN =300\n",
    "TRAIN_TEST_RATIO=0.9\n",
    "with open(f'{SERIES_LEN}_data.json') as f:\n",
    "    data = json.load(f)"
   ]
  },
  {
   "cell_type": "code",
   "execution_count": 5,
   "metadata": {},
   "outputs": [],
   "source": [
    "from copy import deepcopy"
   ]
  },
  {
   "cell_type": "code",
   "execution_count": 6,
   "metadata": {},
   "outputs": [
    {
     "data": {
      "text/plain": [
       "dict_keys(['MW', 'TV', 'HD', 'WM', 'IR', 'FR', 'MG', 'EK', 'GY'])"
      ]
     },
     "execution_count": 6,
     "metadata": {},
     "output_type": "execute_result"
    }
   ],
   "source": [
    "data.keys()"
   ]
  },
  {
   "cell_type": "code",
   "execution_count": 7,
   "metadata": {},
   "outputs": [
    {
     "name": "stdout",
     "output_type": "stream",
     "text": [
      "MW\n",
      "TV\n",
      "HD\n",
      "WM\n",
      "IR\n",
      "FR\n",
      "MG\n",
      "EK\n",
      "GY\n"
     ]
    }
   ],
   "source": [
    "X=[]\n",
    "y=[]\n",
    "for curr_key,curr_val in data.items():\n",
    "    print(curr_key)\n",
    "    for curr_arr in curr_val:\n",
    "        y.append(curr_key)\n",
    "        X.append(deepcopy(curr_arr))"
   ]
  },
  {
   "cell_type": "code",
   "execution_count": 8,
   "metadata": {},
   "outputs": [],
   "source": [
    "X_train, X_test, y_train, y_test = train_test_split(X, y,shuffle=True,random_state=2121219,stratify=y, train_size=TRAIN_TEST_RATIO)"
   ]
  },
  {
   "cell_type": "code",
   "execution_count": 9,
   "metadata": {},
   "outputs": [],
   "source": [
    "def get_correct_format(arr):\n",
    "    ret_arr=[]\n",
    "    for curr_arr in arr:\n",
    "        ret_arr.append([pd.Series(curr_arr)])\n",
    "    return pd.DataFrame(ret_arr)"
   ]
  },
  {
   "cell_type": "code",
   "execution_count": 10,
   "metadata": {},
   "outputs": [],
   "source": [
    "X_train=get_correct_format(X_train)"
   ]
  },
  {
   "cell_type": "code",
   "execution_count": 11,
   "metadata": {},
   "outputs": [],
   "source": [
    "X_test=get_correct_format(X_test)"
   ]
  },
  {
   "cell_type": "code",
   "execution_count": 12,
   "metadata": {},
   "outputs": [
    {
     "data": {
      "text/plain": [
       "1638"
      ]
     },
     "execution_count": 12,
     "metadata": {},
     "output_type": "execute_result"
    }
   ],
   "source": [
    "len(X_train)"
   ]
  },
  {
   "cell_type": "code",
   "execution_count": 13,
   "metadata": {},
   "outputs": [],
   "source": [
    "y_train=np.array(y_train)\n",
    "y_test=np.array(y_test)"
   ]
  },
  {
   "cell_type": "code",
   "execution_count": 14,
   "metadata": {},
   "outputs": [],
   "source": [
    "def get_freq(arr):\n",
    "    curr_dict={}\n",
    "    for x in arr:\n",
    "        try:\n",
    "            curr_dict[x]+=1\n",
    "        except:\n",
    "            curr_dict[x]=1\n",
    "    return curr_dict"
   ]
  },
  {
   "cell_type": "code",
   "execution_count": 15,
   "metadata": {},
   "outputs": [],
   "source": [
    "models=[]"
   ]
  },
  {
   "cell_type": "markdown",
   "metadata": {},
   "source": [
    "# #####################################"
   ]
  },
  {
   "cell_type": "code",
   "execution_count": 16,
   "metadata": {},
   "outputs": [],
   "source": [
    "models = []\n",
    "models.append(('Rocket', ROCKETClassifier(num_kernels=1000)))\n",
    "models.append(('IndividualBOSS', IndividualBOSS()))\n",
    "models.append(('RISE', RandomIntervalSpectralForest(n_estimators=10)))\n",
    "models.append(('TSForest', TimeSeriesForestClassifier()))\n",
    "models.append(('Shapelet', ShapeletTransformClassifier(estimator=RotationForest(n_estimators=3), n_shapelet_samples=500, max_shapelets=20, batch_size=100)))"
   ]
  },
  {
   "cell_type": "code",
   "execution_count": 17,
   "metadata": {},
   "outputs": [],
   "source": [
    "# models.append(('ContractableBOSS', ContractableBOSS(n_parameter_samples=25, max_ensemble_size=5)))"
   ]
  },
  {
   "cell_type": "code",
   "execution_count": 18,
   "metadata": {},
   "outputs": [],
   "source": [
    "# computationally heavy classifiers\n",
    "\n",
    "#models.append(('BOSSEnsemble', BOSSEnsemble(max_ensemble_size=5)))\n",
    "#models.append(('KNTs', KNeighborsTimeSeriesClassifier()))"
   ]
  },
  {
   "cell_type": "code",
   "execution_count": 19,
   "metadata": {
    "scrolled": true
   },
   "outputs": [
    {
     "name": "stdout",
     "output_type": "stream",
     "text": [
      "Rocket: 0.890\n",
      "IndividualBOSS: 0.923\n",
      "RISE: 0.973\n",
      "TSForest: 0.951\n",
      "Shapelet: 0.824\n"
     ]
    }
   ],
   "source": [
    "scores = []\n",
    "names = []\n",
    "models_dict={}\n",
    "for name, model in models:\n",
    "    model.fit(X_train, y_train)\n",
    "    model_score = model.score(X_test, y_test)\n",
    "    scores.append(model_score)\n",
    "    names.append(name)\n",
    "    models_dict[name]=deepcopy(model)\n",
    "    print(\"{:s}: {:.3f}\".format(name, model_score))\n",
    "\n",
    "with open(str(SERIES_LEN) +\"_\"+str(TRAIN_TEST_RATIO)+ \"_models.pckl\", \"wb\") as f:\n",
    "    pickle.dump(models_dict, f)"
   ]
  },
  {
   "cell_type": "code",
   "execution_count": 20,
   "metadata": {},
   "outputs": [
    {
     "name": "stdout",
     "output_type": "stream",
     "text": [
      "300_0.4_models.pckl\t   analyze.ipynb\t    dtw_try.ipynb\r\n",
      "300_0.5_models.pckl\t   backup.md\t\t    explore.ipynb\r\n",
      "300_0.67_models.pckl\t   classifier.ipynb\t    mod_data.json\r\n",
      "300_0.8_models.pckl\t   commands.md\t\t    model_explore.ipynb\r\n",
      "300_0.9_models.pckl\t   construct_dataset.ipynb  predict_lib.py\r\n",
      "300_boss_0.67_models.pckl  data.json\t\t    rocket_tut.ipynb\r\n",
      "300_data.json\t\t   data_old.json\t    test.py\r\n"
     ]
    }
   ],
   "source": [
    "!ls"
   ]
  },
  {
   "cell_type": "code",
   "execution_count": null,
   "metadata": {},
   "outputs": [],
   "source": []
  }
 ],
 "metadata": {
  "kernelspec": {
   "display_name": "Python 3",
   "language": "python",
   "name": "python3"
  },
  "language_info": {
   "codemirror_mode": {
    "name": "ipython",
    "version": 3
   },
   "file_extension": ".py",
   "mimetype": "text/x-python",
   "name": "python",
   "nbconvert_exporter": "python",
   "pygments_lexer": "ipython3",
   "version": "3.6.9"
  }
 },
 "nbformat": 4,
 "nbformat_minor": 4
}
